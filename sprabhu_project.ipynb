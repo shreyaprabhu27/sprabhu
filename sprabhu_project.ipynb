{
 "cells": [
  {
   "cell_type": "code",
   "execution_count": 25,
   "metadata": {
    "collapsed": true
   },
   "outputs": [],
   "source": [
    "# Importing pandas library\n",
    "import pandas as pd"
   ]
  },
  {
   "cell_type": "code",
   "execution_count": 22,
   "metadata": {
    "collapsed": false
   },
   "outputs": [
    {
     "name": "stdout",
     "output_type": "stream",
     "text": [
      " Volume in drive C has no label.\n",
      " Volume Serial Number is B05C-C17B\n",
      "\n",
      " Directory of C:\\Users\\Owner\\Individual Project\n",
      "\n",
      "05/06/2017  11:33 AM            12,897 2005 Crime rates.xlsx\n",
      "05/06/2017  11:33 AM            12,935 2006 Crime rates.xlsx\n",
      "05/06/2017  11:33 AM            12,820 2007 Crime rates.xlsx\n",
      "05/06/2017  11:33 AM            12,777 2008 Crime rates.xlsx\n",
      "05/06/2017  11:32 AM            12,834 2009 Crime rates.xlsx\n",
      "05/06/2017  11:32 AM            12,866 2010 Crime rates.xlsx\n",
      "05/06/2017  11:32 AM            12,879 2011 Crime rates.xlsx\n",
      "05/06/2017  11:32 AM            13,223 2012 Crime rates.xlsx\n",
      "05/06/2017  11:32 AM            12,844 2013 Crime rates.xlsx\n",
      "05/06/2017  11:32 AM            13,042 2014 Crime rates.xlsx\n",
      "05/06/2017  11:32 AM            12,921 2015 Crime rate.xlsx\n",
      "05/06/2017  11:02 AM                 0 allStatesCrimerate.xls\n",
      "05/18/2017  01:05 PM             8,976 HistoricalMedianHouseholdIncomeCalifornia.xlsx\n",
      "05/23/2017  11:56 AM            30,208 Median income.xls\n",
      "05/18/2017  07:01 PM             8,978 MedianFamilyIncomeCali.xlsx\n",
      "05/18/2017  07:01 PM             8,969 PerCapitaIncomeCali.xlsx\n",
      "05/08/2017  02:41 PM            22,116 StatewiseUnemploymentrate.xlsx\n",
      "05/23/2017  05:46 PM            10,894 Unemployment benefits.xlsx\n",
      "05/23/2017  10:50 PM             8,619 US median house hold.xlsx\n",
      "              19 File(s)        240,798 bytes\n",
      "               0 Dir(s)   5,093,990,400 bytes free\n"
     ]
    }
   ],
   "source": [
    "# Check if all the uploaded files are accessible\n",
    "!dir *.xls"
   ]
  },
  {
   "cell_type": "code",
   "execution_count": 110,
   "metadata": {
    "collapsed": false,
    "scrolled": true
   },
   "outputs": [],
   "source": [
    "# Data for crime was available seperately for every year. Hence reading data in different files\n",
    "\n",
    "file1 = pd.read_excel('2005 Crime rates.xlsx')\n",
    "file2 = pd.read_excel('2006 Crime rates.xlsx')\n",
    "file3 = pd.read_excel('2007 Crime rates.xlsx')\n",
    "file4 = pd.read_excel('2008 Crime rates.xlsx')\n",
    "file5 = pd.read_excel('2009 Crime rates.xlsx')\n",
    "file6 = pd.read_excel('2010 Crime rates.xlsx')\n",
    "file7 = pd.read_excel('2011 Crime rates.xlsx')\n",
    "file8 = pd.read_excel('2012 Crime rates.xlsx')\n",
    "file9 = pd.read_excel('2013 Crime rates.xlsx')\n",
    "file10 = pd.read_excel('2014 Crime rates.xlsx')\n",
    "file11 = pd.read_excel('2015 Crime rate.xlsx')\n",
    "\n",
    "# Reading the same excel sheet(Unemployment stats) in different files\n",
    "stats2005 = pd.read_excel('StatewiseUnemploymentrate.xlsx')\n",
    "stats2006 = pd.read_excel('StatewiseUnemploymentrate.xlsx')\n",
    "stats2007 = pd.read_excel('StatewiseUnemploymentrate.xlsx')\n",
    "stats2008 = pd.read_excel('StatewiseUnemploymentrate.xlsx')\n",
    "stats2009 = pd.read_excel('StatewiseUnemploymentrate.xlsx')\n",
    "stats2010 = pd.read_excel('StatewiseUnemploymentrate.xlsx')\n",
    "stats2011 = pd.read_excel('StatewiseUnemploymentrate.xlsx')\n",
    "stats2012 = pd.read_excel('StatewiseUnemploymentrate.xlsx')\n",
    "stats2013 = pd.read_excel('StatewiseUnemploymentrate.xlsx')\n",
    "stats2014 = pd.read_excel('StatewiseUnemploymentrate.xlsx')\n",
    "stats2015 = pd.read_excel('StatewiseUnemploymentrate.xlsx')\n",
    "\n",
    "# Reading the same excel sheet(Median income) in different files\n",
    "income2005 = pd.read_excel('Median income.xls')\n",
    "income2006 = pd.read_excel('Median income.xls')\n",
    "income2007 = pd.read_excel('Median income.xls')\n",
    "income2008 = pd.read_excel('Median income.xls')\n",
    "income2009 = pd.read_excel('Median income.xls')\n",
    "income2010 = pd.read_excel('Median income.xls')\n",
    "income2011 = pd.read_excel('Median income.xls')\n",
    "income2012 = pd.read_excel('Median income.xls')\n",
    "income2013 = pd.read_excel('Median income.xls')\n",
    "income2014 = pd.read_excel('Median income.xls')\n",
    "income2015 = pd.read_excel('Median income.xls')"
   ]
  },
  {
   "cell_type": "code",
   "execution_count": 111,
   "metadata": {
    "collapsed": false
   },
   "outputs": [],
   "source": [
    "# Seperating the unemployment rate data for each year and putting them in different files\n",
    "\n",
    "stats2005 = stats2005[['Area', 'Year 2005']]\n",
    "stats2006 = stats2006[['Area', 'Year 2006']]\n",
    "stats2007 = stats2007[['Area', 'Year 2007']]\n",
    "stats2008 = stats2008[['Area', 'Year 2008']]\n",
    "stats2009 = stats2009[['Area', 'Year 2009']]\n",
    "stats2010 = stats2010[['Area', 'Year 2010']]\n",
    "stats2011 = stats2011[['Area', 'Year 2011']]\n",
    "stats2012 = stats2012[['Area', 'Year 2012']]\n",
    "stats2013 = stats2013[['Area', 'Year 2013']]\n",
    "stats2014 = stats2014[['Area', 'Year 2014']]\n",
    "stats2015 = stats2015[['Area', 'Year 2015']]\n"
   ]
  },
  {
   "cell_type": "code",
   "execution_count": 112,
   "metadata": {
    "collapsed": true
   },
   "outputs": [],
   "source": [
    "# Seperating the income figures for each year and putting them in different files\n",
    "\n",
    "income2005 = income2005[['States', 2005]]\n",
    "income2006 = income2006[['States', 2006]]\n",
    "income2007 = income2007[['States', 2007]]\n",
    "income2008 = income2008[['States', 2008]]\n",
    "income2009 = income2009[['States', 2009]]\n",
    "income2010 = income2010[['States', 2010]]\n",
    "income2011 = income2011[['States', 2011]]\n",
    "income2012 = income2012[['States', 2012]]\n",
    "income2013 = income2013[['States', 2013]]\n",
    "income2014 = income2014[['States', 2014]]\n",
    "income2015 = income2015[['States', 2015]]\n",
    "\n",
    "\n"
   ]
  },
  {
   "cell_type": "code",
   "execution_count": 113,
   "metadata": {
    "collapsed": false
   },
   "outputs": [],
   "source": [
    "# Renaming the column names in the income files so required joins can be performed later\n",
    "\n",
    "stats2005.rename(columns = {'Area':'States', 'Year 2005': 'Unemployment Rate'}, inplace = True)\n",
    "stats2006.rename(columns = {'Area':'States', 'Year 2006': 'Unemployment Rate'}, inplace = True)\n",
    "stats2007.rename(columns = {'Area':'States', 'Year 2007': 'Unemployment Rate'}, inplace = True)\n",
    "stats2008.rename(columns = {'Area':'States', 'Year 2008': 'Unemployment Rate'}, inplace = True)\n",
    "stats2009.rename(columns = {'Area':'States', 'Year 2009': 'Unemployment Rate'}, inplace = True)\n",
    "stats2010.rename(columns = {'Area':'States', 'Year 2010': 'Unemployment Rate'}, inplace = True)\n",
    "stats2011.rename(columns = {'Area':'States', 'Year 2011': 'Unemployment Rate'}, inplace = True)\n",
    "stats2012.rename(columns = {'Area':'States', 'Year 2012': 'Unemployment Rate'}, inplace = True)\n",
    "stats2013.rename(columns = {'Area':'States', 'Year 2013': 'Unemployment Rate'}, inplace = True)\n",
    "stats2014.rename(columns = {'Area':'States', 'Year 2014': 'Unemployment Rate'}, inplace = True)\n",
    "stats2015.rename(columns = {'Area':'States', 'Year 2015': 'Unemployment Rate'}, inplace = True)"
   ]
  },
  {
   "cell_type": "code",
   "execution_count": 114,
   "metadata": {
    "collapsed": false
   },
   "outputs": [],
   "source": [
    "# Merging the crime data with unemployment statistics for each year in dataframes with States being the common column\n",
    "\n",
    "df1 = pd.merge(file1, stats2005, on=['States'],how='inner')\n",
    "df2 = pd.merge(file2, stats2006, on=['States'],how='inner')\n",
    "df3 = pd.merge(file3, stats2007, on=['States'],how='inner')\n",
    "df4 = pd.merge(file4, stats2008, on=['States'],how='inner')\n",
    "df5 = pd.merge(file5, stats2009, on=['States'],how='inner')\n",
    "df6 = pd.merge(file6, stats2010, on=['States'],how='inner')\n",
    "df7 = pd.merge(file7, stats2011, on=['States'],how='inner')\n",
    "df8 = pd.merge(file8, stats2012, on=['States'],how='inner')\n",
    "df9 = pd.merge(file9, stats2013, on=['States'],how='inner')\n",
    "df10 = pd.merge(file10, stats2014, on=['States'],how='inner')\n",
    "df11 = pd.merge(file11, stats2015, on=['States'],how='inner')"
   ]
  },
  {
   "cell_type": "code",
   "execution_count": 115,
   "metadata": {
    "collapsed": true
   },
   "outputs": [],
   "source": [
    "# Removing the unwanted blank columns from every dataframe\n",
    "\n",
    "df1 = df1.dropna(axis=1, how='all')\n",
    "df2 = df2.dropna(axis=1, how='all')\n",
    "df3 = df3.dropna(axis=1, how='all')\n",
    "df4 = df4.dropna(axis=1, how='all')\n",
    "df5 = df5.dropna(axis=1, how='all')\n",
    "df6 = df6.dropna(axis=1, how='all')\n",
    "df7 = df7.dropna(axis=1, how='all')\n",
    "df8 = df8.dropna(axis=1, how='all')\n",
    "df9 = df9.dropna(axis=1, how='all')\n",
    "df10 = df10.dropna(axis=1, how='all')\n",
    "df11 = df11.dropna(axis=1, how='all')\n",
    "\n"
   ]
  },
  {
   "cell_type": "code",
   "execution_count": 117,
   "metadata": {
    "collapsed": false
   },
   "outputs": [],
   "source": [
    "# Renaming column name(year) in income file to 'Median Household Income'\n",
    "income2005.rename(columns = {2005: 'Median Household Income'}, inplace = True)"
   ]
  },
  {
   "cell_type": "code",
   "execution_count": 118,
   "metadata": {
    "collapsed": true
   },
   "outputs": [],
   "source": [
    "income2006.rename(columns = {2006: 'Median Household Income'}, inplace = True)\n",
    "income2007.rename(columns = {2007: 'Median Household Income'}, inplace = True)\n",
    "income2008.rename(columns = {2008: 'Median Household Income'}, inplace = True)\n",
    "income2009.rename(columns = {2009: 'Median Household Income'}, inplace = True)\n",
    "income2010.rename(columns = {2010: 'Median Household Income'}, inplace = True)\n",
    "income2011.rename(columns = {2011: 'Median Household Income'}, inplace = True)\n",
    "income2012.rename(columns = {2012: 'Median Household Income'}, inplace = True)\n",
    "income2013.rename(columns = {2013: 'Median Household Income'}, inplace = True)\n",
    "income2014.rename(columns = {2014: 'Median Household Income'}, inplace = True)\n",
    "income2015.rename(columns = {2015: 'Median Household Income'}, inplace = True)"
   ]
  },
  {
   "cell_type": "code",
   "execution_count": 119,
   "metadata": {
    "collapsed": true
   },
   "outputs": [],
   "source": [
    "# Merging above created dataframes with median income figures for each state for years from 2005 through 2015 on States column\n",
    "df1 = pd.merge(df1, income2005, on=['States'],how='inner')"
   ]
  },
  {
   "cell_type": "code",
   "execution_count": 120,
   "metadata": {
    "collapsed": false
   },
   "outputs": [],
   "source": [
    "df2 = pd.merge(df2, income2006, on=['States'],how='inner')\n",
    "df3 = pd.merge(df3, income2007, on=['States'],how='inner')\n",
    "df4 = pd.merge(df4, income2008, on=['States'],how='inner')\n",
    "df5 = pd.merge(df5, income2009, on=['States'],how='inner')\n",
    "df6 = pd.merge(df6, income2010, on=['States'],how='inner')\n",
    "df7 = pd.merge(df7, income2011, on=['States'],how='inner')\n",
    "df8 = pd.merge(df8, income2012, on=['States'],how='inner')\n",
    "df9 = pd.merge(df9, income2013, on=['States'],how='inner')\n",
    "df10 = pd.merge(df10, income2014, on=['States'],how='inner')\n",
    "df11 = pd.merge(df11, income2015, on=['States'],how='inner')"
   ]
  },
  {
   "cell_type": "code",
   "execution_count": 121,
   "metadata": {
    "collapsed": true
   },
   "outputs": [],
   "source": [
    "# Converting all the files to csv format\n",
    "df1.to_csv('2005All_Data.csv')\n",
    "df2.to_csv('2006All_Data.csv')\n",
    "df3.to_csv('2007All_Data.csv')\n",
    "df4.to_csv('2008All_Data.csv')\n",
    "df5.to_csv('2009All_Data.csv')\n",
    "df6.to_csv('2010All_Data.csv')\n",
    "df7.to_csv('2011All_Data.csv')\n",
    "df8.to_csv('2012All_Data.csv')\n",
    "df9.to_csv('2013All_Data.csv')\n",
    "df10.to_csv('2014All_Data.csv')\n",
    "df11.to_csv('2015All_Data.csv')"
   ]
  },
  {
   "cell_type": "code",
   "execution_count": 122,
   "metadata": {
    "collapsed": false
   },
   "outputs": [],
   "source": [
    "# Concating dataframes to form one frame which combined all the data for all 51 states from 2005 to 2015\n",
    "allStatesCrimerate = pd.concat([df1,df2,df3,df4,df5,df6,df7,df8,df9,df10,df11])\n"
   ]
  },
  {
   "cell_type": "code",
   "execution_count": 123,
   "metadata": {
    "collapsed": false,
    "scrolled": false
   },
   "outputs": [],
   "source": [
    "# Removing blank unwanted fields\n",
    "allStatesCrimerate = allStatesCrimerate.dropna(axis=1, how='all')"
   ]
  },
  {
   "cell_type": "code",
   "execution_count": 125,
   "metadata": {
    "collapsed": true
   },
   "outputs": [],
   "source": [
    "# Converting the frame to csv file which is used for analysis\n",
    "allStatesCrimerate.to_csv('allStatesCrimerate.csv')"
   ]
  },
  {
   "cell_type": "code",
   "execution_count": 16,
   "metadata": {
    "collapsed": false
   },
   "outputs": [],
   "source": [
    "# Reading file containing unemployment benefits\n",
    "Unemploymentbenefits = pd.read_excel('Unemployment benefits.xlsx')"
   ]
  },
  {
   "cell_type": "code",
   "execution_count": 17,
   "metadata": {
    "collapsed": true
   },
   "outputs": [],
   "source": [
    "# Extracting only the required columns\n",
    "Unemploymentbenefits = Unemploymentbenefits[['State', 'Max Weeks of Benefits', 'Max.Weekly Benefits']]"
   ]
  },
  {
   "cell_type": "code",
   "execution_count": 18,
   "metadata": {
    "collapsed": false
   },
   "outputs": [],
   "source": [
    "# Renaming the coumn name so join can be performed and filters can be applied in the Tableau file\n",
    "Unemploymentbenefits.rename(columns = {'State':'States'}, inplace = True)"
   ]
  },
  {
   "cell_type": "code",
   "execution_count": 20,
   "metadata": {
    "collapsed": true
   },
   "outputs": [],
   "source": [
    "#Converting the file to csv format\n",
    "Unemploymentbenefits.to_csv('Unemploymentbenefits.csv')"
   ]
  },
  {
   "cell_type": "code",
   "execution_count": 26,
   "metadata": {
    "collapsed": true
   },
   "outputs": [],
   "source": [
    "# Reading the file containing US median income figures\n",
    "USmedianhousehold = pd.read_excel('US median house hold.xlsx')"
   ]
  },
  {
   "cell_type": "code",
   "execution_count": 28,
   "metadata": {
    "collapsed": true
   },
   "outputs": [],
   "source": [
    "# Converting the file to csv format to maintain a consistency with other file formats\n",
    "USmedianhousehold.to_csv('USmedianhousehold.csv')"
   ]
  }
 ],
 "metadata": {
  "kernelspec": {
   "display_name": "Python 3",
   "language": "python",
   "name": "python3"
  },
  "language_info": {
   "codemirror_mode": {
    "name": "ipython",
    "version": 3
   },
   "file_extension": ".py",
   "mimetype": "text/x-python",
   "name": "python",
   "nbconvert_exporter": "python",
   "pygments_lexer": "ipython3",
   "version": "3.6.0"
  }
 },
 "nbformat": 4,
 "nbformat_minor": 2
}
